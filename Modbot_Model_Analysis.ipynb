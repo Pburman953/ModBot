{
 "cells": [
  {
   "cell_type": "markdown",
   "metadata": {},
   "source": [
    "using vader, roberta pretrained model and hugging face pipeline"
   ]
  },
  {
   "cell_type": "markdown",
   "metadata": {},
   "source": [
    "Import data and NLTK basics"
   ]
  },
  {
   "cell_type": "code",
   "execution_count": 6,
   "metadata": {},
   "outputs": [
    {
     "name": "stderr",
     "output_type": "stream",
     "text": [
      "[nltk_data] Downloading package punkt to\n",
      "[nltk_data]     C:\\Users\\RajBu\\AppData\\Roaming\\nltk_data...\n",
      "[nltk_data]   Package punkt is already up-to-date!\n",
      "[nltk_data] Downloading package averaged_perceptron_tagger to\n",
      "[nltk_data]     C:\\Users\\RajBu\\AppData\\Roaming\\nltk_data...\n",
      "[nltk_data]   Package averaged_perceptron_tagger is already up-to-\n",
      "[nltk_data]       date!\n"
     ]
    },
    {
     "data": {
      "text/plain": [
       "True"
      ]
     },
     "execution_count": 6,
     "metadata": {},
     "output_type": "execute_result"
    }
   ],
   "source": [
    "import pandas as pd\n",
    "import numpy as np \n",
    "import matplotlib.pyplot as plt\n",
    "import seaborn as sns\n",
    "\n",
    "plt.style.use('ggplot')\n",
    "import random\n",
    "import nltk\n",
    "nltk.download('punkt')  # Ensure the standard punkt tokenizer is installed\n",
    "nltk.download('averaged_perceptron_tagger')  # Sometimes required for tokenization\n",
    "\n",
    "\n"
   ]
  },
  {
   "cell_type": "code",
   "execution_count": 7,
   "metadata": {},
   "outputs": [
    {
     "name": "stdout",
     "output_type": "stream",
     "text": [
      "(9000, 2)\n",
      "                                                  text  label\n",
      "0    @user nice new signage. Are you not concerned ...      0\n",
      "1    A woman who you fucked multiple times saying y...      1\n",
      "2    @user @user real talk do you have eyes or were...      1\n",
      "3    your girlfriend lookin at me like a groupie in...      1\n",
      "4                          Hysterical woman like @user      0\n",
      "..                                                 ...    ...\n",
      "495  @user Julian, you are currently hiding in a cu...      0\n",
      "496  honey, it's not you vs. skank. It's you versus...      0\n",
      "497  @user you are a big piece of white trash you f...      0\n",
      "498  Mr Shorter - scum bag posting things like this...      0\n",
      "499  #WakeUpAmerica~> #WalkAwayFromDemocrats @user ...      1\n",
      "\n",
      "[500 rows x 2 columns]\n"
     ]
    }
   ],
   "source": [
    "df = pd.read_csv('hate_train.csv')\n",
    "print(df.shape)\n",
    "df = df.head(500)\n",
    "print(df.head(500))"
   ]
  },
  {
   "cell_type": "code",
   "execution_count": 8,
   "metadata": {},
   "outputs": [
    {
     "data": {
      "image/png": "[encoded data removed]",
      "text/plain": [
       "<Figure size 1000x500 with 1 Axes>"
      ]
     },
     "metadata": {},
     "output_type": "display_data"
    }
   ],
   "source": [
    "ax = df['label'].value_counts().sort_index() \\\n",
    "    .plot(kind='bar',\n",
    "          title='Count of hate or not',\n",
    "          figsize=(10, 5))\n",
    "ax.set_xlabel('Hate Yay or Nay')\n",
    "plt.show()"
   ]
  },
  {
   "cell_type": "code",
   "execution_count": 9,
   "metadata": {},
   "outputs": [
    {
     "name": "stdout",
     "output_type": "stream",
     "text": [
      "ICE: 124 illegal immigrants released from jail later charged in 138 murder cases #BuildTheWall #EnforceUSLaws#KeepAmericansSafeThis is all the Congress should be comtemplating!#BanSanctuaryCities #NoAmnesty #NoDACADeal #EndChainMigration #Deport\n"
     ]
    }
   ],
   "source": [
    "example = df['text'][random.randint(0, 500)]\n",
    "print(example)"
   ]
  },
  {
   "cell_type": "code",
   "execution_count": 10,
   "metadata": {},
   "outputs": [
    {
     "name": "stdout",
     "output_type": "stream",
     "text": [
      "['ICE', ':', '124', 'illegal', 'immigrants', 'released', 'from', 'jail', 'later', 'charged']\n"
     ]
    }
   ],
   "source": [
    "tokens = nltk.word_tokenize(example)\n",
    "print(tokens[:10])\n"
   ]
  }
 ],
 "metadata": {
  "kernelspec": {
   "display_name": "Python 3",
   "language": "python",
   "name": "python3"
  },
  "language_info": {
   "codemirror_mode": {
    "name": "ipython",
    "version": 3
   },
   "file_extension": ".py",
   "mimetype": "text/x-python",
   "name": "python",
   "nbconvert_exporter": "python",
   "pygments_lexer": "ipython3",
   "version": "3.11.9"
  }
 },
 "nbformat": 4,
 "nbformat_minor": 2
}
